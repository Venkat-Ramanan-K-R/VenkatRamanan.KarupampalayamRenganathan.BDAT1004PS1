{
 "cells": [
  {
   "cell_type": "markdown",
   "id": "c57fada7",
   "metadata": {},
   "source": [
    "6. You can turn a word into pig-Latin using the following two rules (simplified):\n",
    "• If the word starts with a consonant, move that letter to the end and append 'ay'. For example, 'happy' becomes 'appyhay' and 'pencil' becomes 'encilpay'.\n",
    "• If the word starts with a vowel, simply append 'way' to the end of the word. For example, 'enter' becomes 'enterway' and 'other' becomes 'otherway' . For our purposes, there are 5 vowels: a, e, i, o, u (so we count y as a consonant).\n",
    "Write a function pig() that takes a word (i.e., a string) as input and returns its pig-Latin form. Your function should still work if the input word contains upper case characters. Your output should always be lower case however."
   ]
  },
  {
   "cell_type": "code",
   "execution_count": 18,
   "id": "c35e4d4d",
   "metadata": {},
   "outputs": [
    {
     "name": "stdout",
     "output_type": "stream",
     "text": [
      "appyhay\n",
      "enterway\n"
     ]
    }
   ],
   "source": [
    "#6 Python\n",
    "\n",
    "str=\"happy\"\n",
    "\n",
    "#for ltr in [ltr for ltr in str if ltr in [\"a\",\"e\",\"i\",\"o\",\"u\"]]:\n",
    " # print(ltr)\n",
    "    \n",
    "def pig(str):\n",
    "    if str[0].lower() in [\"a\",\"e\",\"i\",\"o\",\"u\"]: \n",
    "        return str+\"way\"\n",
    "    else:\n",
    "        str1=str[1:len(str)]\n",
    "        #print(str1 + str[0] +\"ay\")\n",
    "        return (str1 + str[0] +\"ay\")\n",
    "\n",
    "print(pig(\"happy\"))\n",
    "print(pig(\"enter\"))"
   ]
  },
  {
   "cell_type": "markdown",
   "id": "49fd0c3a",
   "metadata": {},
   "source": [
    "#7 File bloodtype1.txt records blood-types of patients (A, B, AB, O or OO) at a clinic. \n",
    "Write a function bldcount() that reads the file with name name and reports (i.e., prints) \n",
    "how many patients there are in each bloodtype."
   ]
  },
  {
   "cell_type": "code",
   "execution_count": 58,
   "id": "1d34830c",
   "metadata": {},
   "outputs": [
    {
     "name": "stdout",
     "output_type": "stream",
     "text": [
      "There are 13 patient(s) in AB blood group.\n",
      "There are 1 patient(s) in B blood group.\n",
      "There are 15 patient(s) in O blood group.\n",
      "There are 15 patient(s) in A blood group.\n"
     ]
    }
   ],
   "source": [
    "\n",
    "\n",
    "def bldcount(txtfil):\n",
    "    \n",
    "    name = open(txtfil, \"r\")\n",
    "    content=name.readline()\n",
    "    name.close()\n",
    "    ltr_list=content.split()\n",
    "    empty_lst=[]\n",
    "\n",
    "    for ltr in ltr_list:\n",
    "        if ltr in empty_lst:\n",
    "            pass\n",
    "        else:\n",
    "            cnt=ltr_list.count(ltr)\n",
    "            print(\"There are {0} patient(s) in {1} blood group.\".format(cnt,ltr))\n",
    "            empty_lst.append(ltr)\n",
    "\n",
    "\n",
    "    #print(\"There are {0} People in {1} group.\")\n",
    "    \n",
    "bldcount(\"bloodtype1.txt\")"
   ]
  },
  {
   "cell_type": "markdown",
   "id": "b17ed971",
   "metadata": {},
   "source": [
    "#8. Write a function curconv() that takes as input:\n",
    "    #1 a currency represented using a string (e.g., 'JPY' for the Japanese Yen or 'EUR' for the Euro)\n",
    "    #2 an amount\n",
    "#and then converts and returns the amount in US dollars."
   ]
  },
  {
   "cell_type": "code",
   "execution_count": 132,
   "id": "a09cb31d",
   "metadata": {},
   "outputs": [
    {
     "name": "stdout",
     "output_type": "stream",
     "text": [
      "122.96544\n",
      "1.241401\n"
     ]
    }
   ],
   "source": [
    "\n",
    "\n",
    "def curconv(txtfil,currency,amt):\n",
    "    infile=open(txtfil,\"r\")\n",
    "    \n",
    "    for line in infile.readlines(): #Reading line by line from txt file\n",
    "        if currency in line: #Reading each cell from a line\n",
    "            fx_rate=line.split()[1] #getting fx_rate \n",
    "            print(amt*float(fx_rate))  #Fx_rate is decimal numbers. so converting it to float from str\n",
    "            \n",
    "        \n",
    "        \n",
    "    infile.close()\n",
    "\n",
    "curconv(\"currencies.txt\",\"EUR\", 100)\n",
    "curconv(\"currencies.txt\",\"JPY\",100)"
   ]
  },
  {
   "cell_type": "markdown",
   "id": "465ce2ef",
   "metadata": {},
   "source": [
    "9. Each of the following will cause an exception (an error). Identify what type of exception each will cause.\n",
    "Trying to add incompatible variables, as in adding 6 + ‘a’\n",
    "Referring to the 12th item of a list that has only 10 items\n",
    "Using a value that is out of range for a function’s input, such as calling math.sqrt( 1.0)\n",
    "Using an undeclared variable, such as p rint(x)\n",
    "when x has not been defined\n",
    "Trying to open a file that does not exist, such as mistyping the file name or looking in the wrong directory."
   ]
  },
  {
   "cell_type": "code",
   "execution_count": null,
   "id": "ba741b7c",
   "metadata": {},
   "outputs": [],
   "source": [
    "#9 Python\n",
    "\n",
    "print(6+\"2\")\n",
    "\n",
    "# Ans: The above one cause \"Type Error\" as unsupported operand type for (+) int and str\n",
    "\n",
    "rng=range(0,10)\n",
    "print(rng[12])\n",
    "\n",
    "# Ans: The above one cause \"Index Error\" because index is out of range\n",
    "\n",
    "import math\n",
    "math.sqrt(-2)\n",
    "\n",
    "# Ans: The above one cause \"Value Error\" because it is a math domain error\n",
    "\n",
    "print(x+2)\n",
    "\n",
    "# Ans: The above one cause \"Name Error\"  because x is not defined\n",
    "\n",
    "infile=open(\"No File.txt\",\"r\")\n",
    "\n",
    "# Ans: The above one cause  \"FileNotFoundError\" because there is no such file or directory"
   ]
  },
  {
   "cell_type": "markdown",
   "id": "97526c79",
   "metadata": {},
   "source": [
    "10. Encryption is the process of hiding the meaning of a text by substituting letters in the message with other letters, according to some system. If the process is successful, no one but the intended recipient can understand the encrypted message. Cryptanalysis refers to attempts to undo the encryption, even if some details of the encryption are unknown (for example, if an encrypted message has been intercepted). The first step of cryptanalysis is often to build up a table of letter frequencies in the encrypted text. Assume that the string letters is already defined as 'abcdefghijklmnopqrstuvwxyz'. Write a function called frequencies() that takes a string as its only parameter, and returns a list of integers, showing the number of times each character appears in the text. Your function may ignore any characters that are not in letters."
   ]
  },
  {
   "cell_type": "code",
   "execution_count": 1,
   "id": "5ee108f7",
   "metadata": {},
   "outputs": [
    {
     "name": "stdout",
     "output_type": "stream",
     "text": [
      "[1, 1, 1, 3, 5, 1, 1, 2, 1, 0, 1, 0, 1, 2, 4, 0, 1, 2, 0, 2, 1, 0, 1, 1, 0, 0]\n",
      "[1, 0, 0, 0, 1, 0, 0, 0, 0, 0, 0, 1, 0, 0, 0, 2, 0, 0, 0, 0, 0, 0, 0, 0, 0, 0]\n"
     ]
    }
   ],
   "source": [
    "#10 Python\n",
    "\n",
    "str=\"abcdefghijklmnopqrstuvwxyz\"\n",
    "output=[]\n",
    "\n",
    "def frequencies(str1):\n",
    "    for i in str:\n",
    "        output.append(str1.count(i))\n",
    "    print(output)\n",
    "    output.clear()  #clearing the list for new input.\n",
    "        \n",
    "        \n",
    "frequencies(\"The quick red fox got bored and went home.\")\n",
    "frequencies(\"apple\")"
   ]
  },
  {
   "cell_type": "code",
   "execution_count": null,
   "id": "21d898e6",
   "metadata": {},
   "outputs": [],
   "source": []
  }
 ],
 "metadata": {
  "kernelspec": {
   "display_name": "Python 3 (ipykernel)",
   "language": "python",
   "name": "python3"
  },
  "language_info": {
   "codemirror_mode": {
    "name": "ipython",
    "version": 3
   },
   "file_extension": ".py",
   "mimetype": "text/x-python",
   "name": "python",
   "nbconvert_exporter": "python",
   "pygments_lexer": "ipython3",
   "version": "3.9.7"
  }
 },
 "nbformat": 4,
 "nbformat_minor": 5
}
