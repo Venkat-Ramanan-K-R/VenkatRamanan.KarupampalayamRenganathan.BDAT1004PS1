{
 "cells": [
  {
   "cell_type": "code",
   "execution_count": 27,
   "id": "9fdb733f",
   "metadata": {},
   "outputs": [
    {
     "name": "stdout",
     "output_type": "stream",
     "text": [
      "The Data type for 5 is System.Int32\n",
      "The Data type for 5.0 is System.Double\n",
      "The Data type for 5>1 is System.Boolean\n",
      "The Data type for '5' is System.Char\n",
      "The Data type for 5*2 is System.Int32\n",
      "The Data type for '5'*2 is System.Int32\n",
      "The Data type for '5'+'2' is System.Int32\n",
      "The Data type for 5/2 is System.Int32\n",
      "The Data type for 5%2 is System.Int32\n",
      "The Data type for 5==3 is System.Boolean\n",
      "The Data type for {5,2,1} is System.Int32[]\n",
      "The Data type for Pi is System.Double\n"
     ]
    }
   ],
   "source": [
    "//1. What data type is each of the following? C#\n",
    "\n",
    "Console.WriteLine(\"The Data type for 5 is \"+(5).GetType());\n",
    "Console.WriteLine(\"The Data type for 5.0 is \"+(5.0).GetType());\n",
    "Console.WriteLine(\"The Data type for 5>1 is \"+(5>1).GetType());\n",
    "Console.WriteLine(\"The Data type for '5' is \"+('5').GetType());\n",
    "Console.WriteLine(\"The Data type for 5*2 is \"+(5*2).GetType());\n",
    "Console.WriteLine(\"The Data type for '5'*2 is \"+('5'*2).GetType());\n",
    "Console.WriteLine(\"The Data type for '5'+'2' is \"+('5'+'2').GetType());\n",
    "Console.WriteLine(\"The Data type for 5/2 is \"+(5/2).GetType());\n",
    "Console.WriteLine(\"The Data type for 5%2 is \"+(5%2).GetType());\n",
    "Console.WriteLine(\"The Data type for 5==3 is \"+(5==3).GetType());\n",
    "Console.WriteLine(\"The Data type for {5,2,1} is \"+ new int[3] {5,2,1}.GetType());\n",
    "Console.WriteLine(\"The Data type for Pi is \"+(Math.PI).GetType());\n"
   ]
  },
  {
   "cell_type": "code",
   "execution_count": 29,
   "id": "08534b5b",
   "metadata": {},
   "outputs": [
    {
     "name": "stdout",
     "output_type": "stream",
     "text": [
      "The length of 'Supercalifragilisticexpialidocious' is 34\n",
      "Yes!!, There is a string called \"ice\"\n",
      "The word(s) with most number of characters is/are :Supercalifragilisticexpialidocious, Bababadalgharaghtakamminarronnkonn. The Length is 34\n",
      "The First Name comes in the sorted list is Bartok\n",
      "The Last Name comes in the sorted list is Buxtehude\n"
     ]
    }
   ],
   "source": [
    "//2a. How many letters are there in 'Supercalifragilisticexpialidocious'? C#\n",
    "\n",
    "string str = \"Supercalifragilisticexpialidocious\";\n",
    "Console.WriteLine(\"The length of 'Supercalifragilisticexpialidocious' is \"+str.Length);\n",
    "\n",
    "//2b. Does 'Supercalifragilisticexpialidocious' contain 'ice' as a substring?\n",
    "\n",
    "if (str.IndexOf(\"ice\")<0)\n",
    "{\n",
    "    Console.WriteLine(\"There is no string called \\\"ice\\\"\");\n",
    "}\n",
    "else\n",
    "{\n",
    "    Console.WriteLine(\"Yes!!, There is a string called \\\"ice\\\"\");\n",
    "}\n",
    "\n",
    "//2c.Which of the following words is the longest: Supercalifragilisticexpialidocious, Honorificabilitudinitatibus, or Bababadalgharaghtakamminarronnkonn?\n",
    "\n",
    "string[] strs = {\"Supercalifragilisticexpialidocious\",\"Honorificabilitudinitatibus\",\"Bababadalgharaghtakamminarronnkonn\"};\n",
    "string wrd = \"\";\n",
    "int wrd_len = 0;\n",
    "foreach (string str in strs)\n",
    "{\n",
    "    if (str.Length >= wrd_len && str.Length!=0)\n",
    "    {\n",
    "        wrd = wrd +\", \" + str;\n",
    "        wrd_len=str.Length;\n",
    "    }\n",
    "\n",
    "}\n",
    "string wrd1 = wrd.Substring(2);  //To remove Initial 2 characers from wrd variable\n",
    "\n",
    "Console.WriteLine(\"The word(s) with most number of characters is/are :\"+wrd1 + \". The Length is \" + wrd_len);\n",
    "\n",
    "//2d. Which composer comes first in the dictionary: 'Berlioz', 'Borodin', 'Brian','Bartok', 'Bellini', 'Buxtehude', 'Bernstein'. Which one comes last?\n",
    "\n",
    "string[] names = {\"Berlioz\",\"Borodin\",\"Brian\",\"Bartok\",\"Bellini\",\"Buxtehude\",\"Bernstein\"};\n",
    "Array.Sort(names);\n",
    "Console.WriteLine(\"The First Name comes in the sorted list is \" + names[0]);\n",
    "Console.WriteLine(\"The Last Name comes in the sorted list is \" +names[^1]);\n",
    "\n"
   ]
  },
  {
   "cell_type": "code",
   "execution_count": 47,
   "id": "8a461409",
   "metadata": {},
   "outputs": [
    {
     "name": "stdout",
     "output_type": "stream",
     "text": [
      "1.7320508075688772\r\n"
     ]
    }
   ],
   "source": [
    "//3. Implement function triangleArea(a,b,c) that takes as input the lengths of the 3 sides of a triangle and returns the area of the triangle. By Heron's formula, the area\n",
    "//of a triangle with side lengths a, b, and c is, s(s - a)(s -b)(s -c), where, s = (a +b + c) /2. C#\n",
    "\n",
    "static double triangleArea(double s1, double s2, double s3)\n",
    "{\n",
    "    double s=(s1+s2+s3)/2;\n",
    "    double triangleArea = Math.Sqrt(s * (s - s1) * (s - s2) * (s - s3));\n",
    "    \n",
    "    return triangleArea;\n",
    "}\n",
    "\n",
    "\n",
    "Console.WriteLine(triangleArea(2,2,2));"
   ]
  },
  {
   "cell_type": "code",
   "execution_count": 31,
   "id": "f7267eb2",
   "metadata": {},
   "outputs": [
    {
     "name": "stdout",
     "output_type": "stream",
     "text": [
      "Please enter the number of elements you want to separate: \n",
      "Please enter your elements: \n",
      "Even Numbers are : 32, 56, 42\n",
      "Odd Numbers are : 47, 25\n"
     ]
    }
   ],
   "source": [
    "//4. Write a program in C# Sharp to separate odd and even integers in separate arrays. C#\n",
    "\n",
    "Console.WriteLine(\"Please enter the number of elements you want to separate: \");\n",
    "int cnt = Convert.ToInt32(Console.ReadLine());  //Jupyter Doesnt support ReadLine(), Im hardcoding the value in next Line.\n",
    "cnt = 5;\n",
    "\n",
    "//int[] elements = new int[cnt];\n",
    "string Even = \"\";\n",
    "string Odd = \"\";\n",
    "\n",
    "\n",
    "Console.WriteLine(\"Please enter your elements: \");\n",
    "\n",
    "for (int i = 0; i < cnt; i++)\n",
    "{\n",
    "    //elements[i] = Convert.ToInt32(Console.ReadLine());   //Jupyter Doesnt support ReadLine(), Im hardcoding the value in next Line.\n",
    "}\n",
    "\n",
    "int[] elements = new int[]{ 25, 47, 42, 56, 32 };\n",
    "\n",
    "foreach (int num in elements)\n",
    "{\n",
    "    if (num % 2 == 0)\n",
    "    {\n",
    "        //Console.WriteLine(\"Even Numbers are :\");\n",
    "        //Console.WriteLine(num);\n",
    "        Even = num + \", \" + Even;\n",
    "    }\n",
    "    else\n",
    "    {\n",
    "        //Console.WriteLine(\"Odd Numbers are :\");\n",
    "        //Console.WriteLine(num);\n",
    "        Odd = num + \", \" + Odd;\n",
    "    }\n",
    "}\n",
    "\n",
    "if (Even.Length != 0)\n",
    "{\n",
    "    Console.WriteLine(\"Even Numbers are : \" + Even.Substring(0, Even.Length - 2));\n",
    "}\n",
    "if (Odd.Length != 0)\n",
    "{\n",
    "    Console.WriteLine(\"Odd Numbers are : \" + Odd.Substring(0, Odd.Length - 2));\n",
    "}"
   ]
  },
  {
   "cell_type": "code",
   "execution_count": 1,
   "id": "37857a76",
   "metadata": {},
   "outputs": [
    {
     "name": "stdout",
     "output_type": "stream",
     "text": [
      "True\n",
      "False\n",
      "Nope!! They are not bounded inside the rectangular Co-ordinate points!!\n",
      "Yes!!, those co-ordinates are inside the rectangel!!\n"
     ]
    }
   ],
   "source": [
    "//5 C#\n",
    "\n",
    "//5a. Write a function inside(x,y,x1,y1,x2,y2) that returns True or False depending on whether the point (x,y) \n",
    "//lies in the rectangle with lower left corner (x1,y1) and upper right corner (x2,y2).\n",
    "\n",
    "static bool inside(double x,double y,double x1,double y1,double x2,double y2)\n",
    "{\n",
    "    if(x>x1 && x<x2 && y>y1 && y<y2)\n",
    "    {\n",
    "        return true;\n",
    "    }\n",
    "    return false;\n",
    "}\n",
    "\n",
    "Console.WriteLine(inside(1, 1, 0, 0, 2, 3));\n",
    "\n",
    "Console.WriteLine(inside(-1,-1, 0, 0, 2, 3));\n",
    "\n",
    "//5b. Use function inside() from part a. to write an expression that tests whether the point (1,1) lies in both of the \n",
    "//following rectangles: one with lower left corner (0.3, 0.5) and upper right corner (1.1, 0.7) and the other with lower left corner (0.5, 0.2) and upper right corner (1.1, 2).\n",
    "\n",
    "\n",
    "if (inside(1,1, 0.3, 0.5, 1.1, 0.7) == true)\n",
    "{\n",
    "    Console.WriteLine(\"Yes!!, those co-ordinates are inside the rectangel!!\");\n",
    "}\n",
    "else\n",
    "{\n",
    "    Console.WriteLine(\"Nope!! They are not bounded inside the rectangular Co-ordinate points!!\");\n",
    "}\n",
    "\n",
    "\n",
    "if (inside(1,1,0.5,0.2,1.1,2) == true)\n",
    "{\n",
    "    Console.WriteLine(\"Yes!!, those co-ordinates are inside the rectangel!!\");\n",
    "}\n",
    "else\n",
    "{\n",
    "    Console.WriteLine(\"Nope!! They are not bounded inside the rectangular Co-ordinate points!!\");\n",
    "}\n",
    "\n",
    "\n"
   ]
  },
  {
   "cell_type": "code",
   "execution_count": null,
   "id": "13aa1ad7",
   "metadata": {},
   "outputs": [],
   "source": []
  }
 ],
 "metadata": {
  "kernelspec": {
   "display_name": ".NET (C#)",
   "language": "C#",
   "name": ".net-csharp"
  },
  "language_info": {
   "file_extension": ".cs",
   "mimetype": "text/x-csharp",
   "name": "C#",
   "pygments_lexer": "csharp",
   "version": "8.0"
  }
 },
 "nbformat": 4,
 "nbformat_minor": 5
}
